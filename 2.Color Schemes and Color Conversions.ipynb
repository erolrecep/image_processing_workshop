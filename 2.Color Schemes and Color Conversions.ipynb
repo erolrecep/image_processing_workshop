{
 "cells": [
  {
   "cell_type": "code",
   "execution_count": null,
   "id": "3b55d78a",
   "metadata": {},
   "outputs": [],
   "source": []
  },
  {
   "cell_type": "code",
   "execution_count": null,
   "id": "7613bc26",
   "metadata": {},
   "outputs": [],
   "source": [
    "# Tasks\n",
    "# - Load an RGB image\n",
    "# - Load an image as gray\n",
    "# - Convert BGR image to gray\n",
    "# - Convert BGR to HSV\n",
    "# - Convert BGR to YCrCb\n",
    "# - Convert HSV to RGB\n",
    "# - Split channels and display individually\n",
    "# - Merge different channels and display them"
   ]
  },
  {
   "cell_type": "code",
   "execution_count": null,
   "id": "ef77da97",
   "metadata": {},
   "outputs": [],
   "source": []
  },
  {
   "cell_type": "code",
   "execution_count": null,
   "id": "2c6c7860",
   "metadata": {},
   "outputs": [],
   "source": [
    "# import required libraries\n",
    "import time\n",
    "import cv2\n",
    "import matplotlib.pyplot as plt"
   ]
  },
  {
   "cell_type": "code",
   "execution_count": null,
   "id": "2093ffcb",
   "metadata": {},
   "outputs": [],
   "source": []
  },
  {
   "cell_type": "code",
   "execution_count": null,
   "id": "ff8020ea",
   "metadata": {},
   "outputs": [],
   "source": [
    "# Get an RGB frame from webcam\n",
    "cap = cv2.VideoCapture(0) # use 0 if you only have front facing camera\n",
    "\n",
    "time.sleep(2) # This is necessary and try other way to see the result.\n",
    "\n",
    "ret, frame = cap.read() #read one frame\n",
    "if ret:\n",
    "    print(frame.shape)\n",
    "else:\n",
    "    print(\"Loop over for actual image!\")\n",
    "\n",
    "plt.imshow(frame[...,::-1])\n",
    "plt.show()\n",
    "\n",
    "cap.release() # release the VideoCapture object."
   ]
  },
  {
   "cell_type": "code",
   "execution_count": null,
   "id": "a8ad7c27",
   "metadata": {},
   "outputs": [],
   "source": []
  },
  {
   "cell_type": "code",
   "execution_count": null,
   "id": "192b1845",
   "metadata": {},
   "outputs": [],
   "source": [
    "# - Load an image as gray (convert to gray)\n",
    "frame_gray = cv2.cvtColor(frame, cv2.COLOR_BGR2GRAY)"
   ]
  },
  {
   "cell_type": "code",
   "execution_count": null,
   "id": "36464256",
   "metadata": {},
   "outputs": [],
   "source": [
    "plt.imshow(frame_gray, cmap='gray')\n",
    "plt.show()"
   ]
  },
  {
   "cell_type": "code",
   "execution_count": null,
   "id": "0eff0eb2",
   "metadata": {},
   "outputs": [],
   "source": [
    "%%html\n",
    "<iframe src=\"https://docs.opencv.org/4.7.0/d4/da8/group__imgcodecs.html#ga288b8b3da0892bd651fce07b3bbd3a56\" width=\"640\" height=\"480\"></iframe>"
   ]
  },
  {
   "cell_type": "code",
   "execution_count": null,
   "id": "289613b9",
   "metadata": {},
   "outputs": [],
   "source": [
    "%%html\n",
    "<iframe src=\"https://docs.opencv.org/4.7.0/d8/d6a/group__imgcodecs__flags.html#ga61d9b0126a3e57d9277ac48327799c80\" width=\"640\" height=\"480\"></iframe>"
   ]
  },
  {
   "cell_type": "code",
   "execution_count": null,
   "id": "ef76b2d3",
   "metadata": {},
   "outputs": [],
   "source": []
  },
  {
   "cell_type": "code",
   "execution_count": null,
   "id": "dccebfea",
   "metadata": {},
   "outputs": [],
   "source": [
    "# - Convert BGR to HSV\n",
    "frame_hsv = cv2.cvtColor(frame, cv2.COLOR_BGR2HSV)\n",
    "plt.imshow(frame_hsv)\n",
    "plt.show()"
   ]
  },
  {
   "cell_type": "code",
   "execution_count": null,
   "id": "55957527",
   "metadata": {},
   "outputs": [],
   "source": []
  },
  {
   "cell_type": "code",
   "execution_count": null,
   "id": "36d58bd2",
   "metadata": {},
   "outputs": [],
   "source": [
    "# - Convert BGR to YCrCb\n",
    "frame_ycrcb = cv2.cvtColor(frame, cv2.COLOR_BGR2YCrCb)\n",
    "plt.imshow(frame_ycrcb)\n",
    "plt.show()"
   ]
  },
  {
   "cell_type": "code",
   "execution_count": null,
   "id": "a1976b40",
   "metadata": {},
   "outputs": [],
   "source": []
  },
  {
   "cell_type": "code",
   "execution_count": null,
   "id": "55223d29",
   "metadata": {},
   "outputs": [],
   "source": [
    "# - Convert HSV to RGB\n",
    "\n",
    "# Find the error in this line!\n",
    "frame_rgb = cv2.cvtColor(frame, cv2.COLOR_HSV2RGB)\n",
    "plt.imshow(frame_rgb)\n",
    "plt.show()"
   ]
  },
  {
   "cell_type": "code",
   "execution_count": null,
   "id": "5bb95412",
   "metadata": {},
   "outputs": [],
   "source": []
  },
  {
   "cell_type": "code",
   "execution_count": null,
   "id": "a1aae87d",
   "metadata": {},
   "outputs": [],
   "source": [
    "# - Split channels and display individually\n",
    "frame_h, frame_s, frame_v = cv2.split(frame_hsv)"
   ]
  },
  {
   "cell_type": "code",
   "execution_count": null,
   "id": "6f9babb3",
   "metadata": {},
   "outputs": [],
   "source": [
    "plt.imshow(frame_h)\n",
    "plt.show()"
   ]
  },
  {
   "cell_type": "code",
   "execution_count": null,
   "id": "c50104ef",
   "metadata": {},
   "outputs": [],
   "source": [
    "plt.imshow(frame_s)\n",
    "plt.show()"
   ]
  },
  {
   "cell_type": "code",
   "execution_count": null,
   "id": "a55ed30f",
   "metadata": {},
   "outputs": [],
   "source": [
    "plt.imshow(frame_v)\n",
    "plt.show()"
   ]
  },
  {
   "cell_type": "code",
   "execution_count": null,
   "id": "a6950499",
   "metadata": {},
   "outputs": [],
   "source": []
  },
  {
   "cell_type": "code",
   "execution_count": null,
   "id": "d18854af",
   "metadata": {},
   "outputs": [],
   "source": [
    "# - Split channels and display individually\n",
    "frame_y, frame_cr, frame_cb = cv2.split(frame_ycrcb)"
   ]
  },
  {
   "cell_type": "code",
   "execution_count": null,
   "id": "256f4cc6",
   "metadata": {},
   "outputs": [],
   "source": [
    "plt.imshow(frame_y)\n",
    "plt.show()"
   ]
  },
  {
   "cell_type": "code",
   "execution_count": null,
   "id": "7a74a141",
   "metadata": {},
   "outputs": [],
   "source": [
    "plt.imshow(frame_cr)\n",
    "plt.show()"
   ]
  },
  {
   "cell_type": "code",
   "execution_count": null,
   "id": "f4cc2d4a",
   "metadata": {},
   "outputs": [],
   "source": [
    "plt.imshow(frame_cb)\n",
    "plt.show()"
   ]
  },
  {
   "cell_type": "code",
   "execution_count": null,
   "id": "0073f0f6",
   "metadata": {},
   "outputs": [],
   "source": []
  },
  {
   "cell_type": "code",
   "execution_count": null,
   "id": "555066fe",
   "metadata": {},
   "outputs": [],
   "source": [
    "# - Merge different channels and display them\n",
    "\n",
    "# Let's create our own color scheme\n",
    "frame_recep = cv2.merge((frame_v, frame_y, frame_gray))"
   ]
  },
  {
   "cell_type": "code",
   "execution_count": null,
   "id": "24dabd37",
   "metadata": {},
   "outputs": [],
   "source": [
    "plt.imshow(frame_recep)\n",
    "plt.show()"
   ]
  },
  {
   "cell_type": "code",
   "execution_count": null,
   "id": "094fc277",
   "metadata": {},
   "outputs": [],
   "source": [
    "plt.imshow(frame_rgb)\n",
    "plt.show()"
   ]
  },
  {
   "cell_type": "code",
   "execution_count": null,
   "id": "7b7c47cb",
   "metadata": {},
   "outputs": [],
   "source": []
  },
  {
   "cell_type": "code",
   "execution_count": null,
   "id": "d62fdc7f",
   "metadata": {},
   "outputs": [],
   "source": [
    "# Write the frame for further analysis\n",
    "import os\n",
    "cwd = os.getcwd()\n",
    "cv2.imwrite(cwd + \"/frame.jpg\", frame)"
   ]
  },
  {
   "cell_type": "code",
   "execution_count": null,
   "id": "9c8caeb0",
   "metadata": {},
   "outputs": [],
   "source": []
  }
 ],
 "metadata": {
  "kernelspec": {
   "display_name": "Python 3 (ipykernel)",
   "language": "python",
   "name": "python3"
  },
  "language_info": {
   "codemirror_mode": {
    "name": "ipython",
    "version": 3
   },
   "file_extension": ".py",
   "mimetype": "text/x-python",
   "name": "python",
   "nbconvert_exporter": "python",
   "pygments_lexer": "ipython3",
   "version": "3.8.17"
  }
 },
 "nbformat": 4,
 "nbformat_minor": 5
}
