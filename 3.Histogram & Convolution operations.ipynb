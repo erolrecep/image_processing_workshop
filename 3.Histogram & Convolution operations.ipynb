{
 "cells": [
  {
   "cell_type": "code",
   "execution_count": null,
   "id": "56ae0e87",
   "metadata": {},
   "outputs": [],
   "source": []
  },
  {
   "cell_type": "code",
   "execution_count": null,
   "id": "08a463a7",
   "metadata": {},
   "outputs": [],
   "source": [
    "# Tasks\n",
    "# Understanding image content with pixel values and intensity\n",
    "# Demo: Pixel intensity in a gif\n",
    "# Counting pixels, histogram\n",
    "# Visualize histogram in a line plot\n",
    "# Make the dark images lighter with histogram equalization\n",
    "# Convolution operation\n",
    "# Some popular filters to know\n",
    "# Discuss when to use these filters"
   ]
  },
  {
   "cell_type": "code",
   "execution_count": null,
   "id": "659ac6f9",
   "metadata": {},
   "outputs": [],
   "source": [
    "# import required libraries\n",
    "import os\n",
    "import numpy as np\n",
    "import cv2\n",
    "import matplotlib.pyplot as plt\n",
    "from skimage.exposure import rescale_intensity"
   ]
  },
  {
   "cell_type": "code",
   "execution_count": null,
   "id": "8be438c7",
   "metadata": {},
   "outputs": [],
   "source": []
  },
  {
   "cell_type": "code",
   "execution_count": null,
   "id": "aa32f3ce",
   "metadata": {},
   "outputs": [],
   "source": [
    "# Pixel intensity changes from 0 t 255, 255 included.\n",
    "# Pixel value 0 represents black color\n",
    "# Pixel value 255 represents white color"
   ]
  },
  {
   "cell_type": "code",
   "execution_count": null,
   "id": "9019e0dc",
   "metadata": {},
   "outputs": [],
   "source": [
    "# Let's create pixel intensity gif\n",
    "cwd = os.getcwd()\n",
    "for idx in range(0, 256):\n",
    "    frame = np.full((256, 256), idx).astype(np.uint8)\n",
    "    cv2.putText(frame, \n",
    "                str(idx), \n",
    "                (200, 20), \n",
    "                cv2.FONT_HERSHEY_PLAIN, \n",
    "                1, \n",
    "                (0, 255, 0), \n",
    "                3)\n",
    "    cv2.imwrite(f\"{cwd}/output/frame{idx}.png\", frame)"
   ]
  },
  {
   "cell_type": "code",
   "execution_count": null,
   "id": "632a0ed7",
   "metadata": {},
   "outputs": [],
   "source": [
    "# To be able to generate .gif file out of all these frames, I run this code\n",
    "if not os.path.exists(\"output/output.gif\"):\n",
    "    !ffmpeg -i output/frame%d.png output/output.gif"
   ]
  },
  {
   "cell_type": "code",
   "execution_count": null,
   "id": "a5e80a87",
   "metadata": {},
   "outputs": [],
   "source": [
    "import ipywidgets as widgets\n",
    "display(widgets.HTML('<img src=\"output/output.gif\" width=\"750\" align=\"center\">'))"
   ]
  },
  {
   "cell_type": "code",
   "execution_count": null,
   "id": "95c21130",
   "metadata": {},
   "outputs": [],
   "source": [
    "# Question\n",
    "# How many different R G B combination is needed to be able to the same\n",
    "# thing in RGB format?"
   ]
  },
  {
   "cell_type": "code",
   "execution_count": null,
   "id": "67c50a51",
   "metadata": {},
   "outputs": [],
   "source": []
  },
  {
   "cell_type": "code",
   "execution_count": null,
   "id": "c5ceefc6",
   "metadata": {},
   "outputs": [],
   "source": [
    "# Calculate image histogram with OpenCV\n",
    "\n",
    "# Load the frame\n",
    "frame_path = cwd + \"/frame.jpg\"\n",
    "frame = cv2.imread(frame_path)\n",
    "frame_gray = cv2.cvtColor(frame, cv2.COLOR_BGR2GRAY)"
   ]
  },
  {
   "cell_type": "code",
   "execution_count": null,
   "id": "48d12517",
   "metadata": {},
   "outputs": [],
   "source": [
    "plt.imshow(frame[...,::-1])\n",
    "plt.show()"
   ]
  },
  {
   "cell_type": "code",
   "execution_count": null,
   "id": "a6709853",
   "metadata": {},
   "outputs": [],
   "source": []
  },
  {
   "cell_type": "code",
   "execution_count": null,
   "id": "c5fc5ffb",
   "metadata": {},
   "outputs": [],
   "source": [
    "%%html\n",
    "<iframe src=\"https://docs.opencv.org/4.7.0/d8/dbc/tutorial_histogram_calculation.html\" width=\"640\" height=\"480\"></iframe>"
   ]
  },
  {
   "cell_type": "code",
   "execution_count": null,
   "id": "d74a273d",
   "metadata": {},
   "outputs": [],
   "source": []
  },
  {
   "cell_type": "code",
   "execution_count": null,
   "id": "030868e0",
   "metadata": {},
   "outputs": [],
   "source": [
    "# Split frame R G B channels into individuals\n",
    "frame_b, frame_g, frame_r = cv2.split(frame)"
   ]
  },
  {
   "cell_type": "code",
   "execution_count": null,
   "id": "830849e4",
   "metadata": {},
   "outputs": [],
   "source": [
    "# OpenCV function \"calcHist\" calculates histogram for you\n",
    "hist_r = cv2.calcHist([frame_r], [0], None, [256], [0, 256])\n",
    "hist_g = cv2.calcHist([frame_g], [0], None, [256], [0, 256])\n",
    "hist_b = cv2.calcHist([frame_b], [0], None, [256], [0, 256])"
   ]
  },
  {
   "cell_type": "code",
   "execution_count": null,
   "id": "3480f1ce",
   "metadata": {},
   "outputs": [],
   "source": [
    "# plot the histogram\n",
    "plt.figure()\n",
    "plt.title(\"Frames' R G B Channels Histograms\")\n",
    "plt.xlabel(\"Bins\")\n",
    "plt.ylabel(\"# of Pixels\")\n",
    "plt.plot(hist_r, label=\"Red Channel\", color='red')\n",
    "plt.plot(hist_g, label=\"Green Channel\", color='green')\n",
    "plt.plot(hist_b, label=\"Blue Channel\", color='blue')\n",
    "plt.xlim([0, 256])\n",
    "plt.legend()\n",
    "plt.grid()\n",
    "plt.show()"
   ]
  },
  {
   "cell_type": "code",
   "execution_count": null,
   "id": "61ab1b5f",
   "metadata": {},
   "outputs": [],
   "source": []
  },
  {
   "cell_type": "code",
   "execution_count": null,
   "id": "a0e5a537",
   "metadata": {},
   "outputs": [],
   "source": [
    "%%html\n",
    "<iframe src=\"https://docs.opencv.org/4.7.0/d4/d1b/tutorial_histogram_equalization.html\" width=\"640\" height=\"480\"></iframe>"
   ]
  },
  {
   "cell_type": "code",
   "execution_count": null,
   "id": "b9417c14",
   "metadata": {},
   "outputs": [],
   "source": [
    "# Apply histogram equalization to the grayscale frame image\n",
    "equalized = cv2.equalizeHist(frame_gray)"
   ]
  },
  {
   "cell_type": "code",
   "execution_count": null,
   "id": "5e950085",
   "metadata": {},
   "outputs": [],
   "source": [
    "plt.imshow(equalized, cmap='gray')\n",
    "plt.show()"
   ]
  },
  {
   "cell_type": "code",
   "execution_count": null,
   "id": "6abf1df1",
   "metadata": {},
   "outputs": [],
   "source": []
  },
  {
   "cell_type": "code",
   "execution_count": null,
   "id": "d7eccf09",
   "metadata": {},
   "outputs": [],
   "source": [
    "# Apply histogram equalization to all color channels\n",
    "equalized_r = cv2.equalizeHist(frame_r)\n",
    "equalized_g = cv2.equalizeHist(frame_g)\n",
    "equalized_b = cv2.equalizeHist(frame_b)"
   ]
  },
  {
   "cell_type": "code",
   "execution_count": null,
   "id": "55f987c9",
   "metadata": {},
   "outputs": [],
   "source": [
    "# OpenCV function \"calcHist\" calculates histogram for you\n",
    "equalized_r_hist = cv2.calcHist([equalized_r], [0], None, [256], [0, 256])\n",
    "equalized_g_hist = cv2.calcHist([equalized_g], [0], None, [256], [0, 256])\n",
    "equalized_b_hist = cv2.calcHist([equalized_b], [0], None, [256], [0, 256])"
   ]
  },
  {
   "cell_type": "code",
   "execution_count": null,
   "id": "18017ad1",
   "metadata": {
    "scrolled": false
   },
   "outputs": [],
   "source": [
    "# plot the histogram\n",
    "plt.figure()\n",
    "plt.title(\"Frames' R G B Channels Histogram Equalized\")\n",
    "plt.xlabel(\"Bins\")\n",
    "plt.ylabel(\"# of Pixels\")\n",
    "plt.plot(equalized_r_hist, label=\"Red Channel\", color='red')\n",
    "plt.plot(equalized_g_hist, label=\"Green Channel\", color='green')\n",
    "plt.plot(equalized_b_hist, label=\"Blue Channel\", color='blue')\n",
    "plt.xlim([0, 256])\n",
    "plt.legend()\n",
    "plt.grid()\n",
    "plt.show()"
   ]
  },
  {
   "cell_type": "code",
   "execution_count": null,
   "id": "b996b318",
   "metadata": {},
   "outputs": [],
   "source": [
    "equalized_frame_rgb = cv2.merge((equalized_r, equalized_g, equalized_b))"
   ]
  },
  {
   "cell_type": "code",
   "execution_count": null,
   "id": "dde5f920",
   "metadata": {},
   "outputs": [],
   "source": [
    "plt.imshow(frame[...,::-1])\n",
    "plt.show()"
   ]
  },
  {
   "cell_type": "code",
   "execution_count": null,
   "id": "a1c32834",
   "metadata": {},
   "outputs": [],
   "source": [
    "plt.imshow(equalized_frame_rgb)\n",
    "plt.show()"
   ]
  },
  {
   "cell_type": "code",
   "execution_count": null,
   "id": "92918b7a",
   "metadata": {},
   "outputs": [],
   "source": []
  },
  {
   "cell_type": "markdown",
   "id": "1e5b64f8",
   "metadata": {},
   "source": [
    "## Convolution Operations"
   ]
  },
  {
   "cell_type": "code",
   "execution_count": null,
   "id": "8a1f43d0",
   "metadata": {},
   "outputs": [],
   "source": []
  },
  {
   "cell_type": "code",
   "execution_count": null,
   "id": "343cc266",
   "metadata": {},
   "outputs": [],
   "source": [
    "%%html\n",
    "<iframe src=\"https://docs.opencv.org/4.7.0/d4/d13/tutorial_py_filtering.html\" width=\"640\" height=\"480\"></iframe>"
   ]
  },
  {
   "cell_type": "code",
   "execution_count": null,
   "id": "7dc7a9d3",
   "metadata": {},
   "outputs": [],
   "source": [
    "# User defined function\n",
    "\n",
    "def convolve(image, kernel):\n",
    "    # get image and kernel sizes\n",
    "    (iH, iW) = image.shape[:2]\n",
    "    (kH, kW) = kernel.shape[:2]\n",
    "    \n",
    "    pad = (kW - 1) // 2\n",
    "    \n",
    "    image = cv2.copyMakeBorder(image, pad, pad, pad, pad,\n",
    "    cv2.BORDER_REPLICATE)\n",
    "    output = np.zeros((iH, iW), dtype=\"float32\")\n",
    "    \n",
    "    for y in np.arange(pad, iH + pad):\n",
    "        for x in np.arange(pad, iW + pad):\n",
    "            roi = image[y - pad:y + pad + 1, x - pad:x + pad + 1]\n",
    "            k = (roi * kernel).sum()\n",
    "            output[y - pad, x - pad] = k\n",
    "    \n",
    "    # rescale the output image to be in the range [0, 255]\n",
    "    output = rescale_intensity(output, in_range=(0, 255))\n",
    "    output = (output * 255).astype(\"uint8\")\n",
    "\n",
    "    return output"
   ]
  },
  {
   "cell_type": "code",
   "execution_count": null,
   "id": "787cbeeb",
   "metadata": {},
   "outputs": [],
   "source": [
    "sharpen_kernel = np.array(\n",
    "    [\n",
    "        [0, -1, 0], \n",
    "        [-1, 5, -1], \n",
    "        [0, -1, 0]\n",
    "    ]\n",
    ")"
   ]
  },
  {
   "cell_type": "code",
   "execution_count": null,
   "id": "c290cfc8",
   "metadata": {},
   "outputs": [],
   "source": [
    "sharpened_frame_gray = convolve(frame_gray, sharpen_kernel)"
   ]
  },
  {
   "cell_type": "code",
   "execution_count": null,
   "id": "6550dcd2",
   "metadata": {},
   "outputs": [],
   "source": [
    "plt.imshow(sharpened_frame_gray, cmap='gray')\n",
    "plt.show()"
   ]
  },
  {
   "cell_type": "code",
   "execution_count": null,
   "id": "62f4dbd5",
   "metadata": {},
   "outputs": [],
   "source": []
  },
  {
   "cell_type": "code",
   "execution_count": null,
   "id": "84ba1aa7",
   "metadata": {},
   "outputs": [],
   "source": [
    "# OpenCV version of the convolution operation\n",
    "cv2_sharpened_frame_gray = cv2.filter2D(\n",
    "    src=frame_gray, \n",
    "    ddepth=-1, \n",
    "    kernel=sharpen_kernel\n",
    ")"
   ]
  },
  {
   "cell_type": "code",
   "execution_count": null,
   "id": "bfa67d6d",
   "metadata": {},
   "outputs": [],
   "source": [
    "plt.imshow(cv2_sharpened_frame_gray, cmap='gray')\n",
    "plt.show()"
   ]
  },
  {
   "cell_type": "code",
   "execution_count": null,
   "id": "ba64e446",
   "metadata": {},
   "outputs": [],
   "source": [
    "plt.imshow(frame_gray, cmap='gray')\n",
    "plt.show()"
   ]
  },
  {
   "cell_type": "code",
   "execution_count": null,
   "id": "825bfeed",
   "metadata": {},
   "outputs": [],
   "source": []
  },
  {
   "cell_type": "code",
   "execution_count": null,
   "id": "33f4ca4c",
   "metadata": {},
   "outputs": [],
   "source": [
    "# Apply Gaussian filter on gray image"
   ]
  },
  {
   "cell_type": "code",
   "execution_count": null,
   "id": "c163831f",
   "metadata": {},
   "outputs": [],
   "source": [
    "frame_gray_gaussian_blurred = cv2.GaussianBlur(frame_gray,(5,5),0)"
   ]
  },
  {
   "cell_type": "code",
   "execution_count": null,
   "id": "0fa2308b",
   "metadata": {},
   "outputs": [],
   "source": [
    "plt.imshow(frame_gray_gaussian_blurred, cmap='gray')\n",
    "plt.show()"
   ]
  },
  {
   "cell_type": "code",
   "execution_count": null,
   "id": "7cd035b9",
   "metadata": {},
   "outputs": [],
   "source": [
    "# Apply edge detection to gaussian filtered gray image"
   ]
  },
  {
   "cell_type": "code",
   "execution_count": null,
   "id": "baf13846",
   "metadata": {},
   "outputs": [],
   "source": [
    "canny_edges_on_gaussian_blurred = cv2.Canny(\n",
    "    frame_gray_gaussian_blurred, 75, 200\n",
    ")"
   ]
  },
  {
   "cell_type": "code",
   "execution_count": null,
   "id": "7c471138",
   "metadata": {},
   "outputs": [],
   "source": [
    "plt.imshow(canny_edges_on_gaussian_blurred, cmap='gray')\n",
    "plt.show()"
   ]
  },
  {
   "cell_type": "code",
   "execution_count": null,
   "id": "3858ebe1",
   "metadata": {},
   "outputs": [],
   "source": []
  },
  {
   "cell_type": "code",
   "execution_count": null,
   "id": "7fbcd40d",
   "metadata": {},
   "outputs": [],
   "source": [
    "# Apply edge detection to directly gray image"
   ]
  },
  {
   "cell_type": "code",
   "execution_count": null,
   "id": "de05c3e7",
   "metadata": {},
   "outputs": [],
   "source": [
    "canny_edges_on_gray_frame = cv2.Canny(frame_gray,75,200)\n",
    "plt.imshow(canny_edges_on_gray_frame, cmap='gray')\n",
    "plt.show()"
   ]
  },
  {
   "cell_type": "code",
   "execution_count": null,
   "id": "12c8d7c1",
   "metadata": {},
   "outputs": [],
   "source": []
  }
 ],
 "metadata": {
  "kernelspec": {
   "display_name": "Python 3 (ipykernel)",
   "language": "python",
   "name": "python3"
  },
  "language_info": {
   "codemirror_mode": {
    "name": "ipython",
    "version": 3
   },
   "file_extension": ".py",
   "mimetype": "text/x-python",
   "name": "python",
   "nbconvert_exporter": "python",
   "pygments_lexer": "ipython3",
   "version": "3.8.17"
  }
 },
 "nbformat": 4,
 "nbformat_minor": 5
}
