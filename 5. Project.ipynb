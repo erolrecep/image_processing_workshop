{
 "cells": [
  {
   "cell_type": "code",
   "execution_count": null,
   "id": "276c1df1",
   "metadata": {},
   "outputs": [],
   "source": []
  },
  {
   "cell_type": "code",
   "execution_count": null,
   "id": "3a4817e3",
   "metadata": {},
   "outputs": [],
   "source": [
    "# Steps to the document scanner project\n",
    "# 1. Load image\n",
    "# 2. Preprocess image and apply edge detection\n",
    "# 3. Find contours in the input image\n",
    "# 4. Plot the contours and lines between them\n",
    "# 5. Warp the image andextract the region\n",
    "# 6. Display the original image vs resultant image"
   ]
  },
  {
   "cell_type": "code",
   "execution_count": null,
   "id": "930e3378",
   "metadata": {},
   "outputs": [],
   "source": []
  },
  {
   "cell_type": "code",
   "execution_count": null,
   "id": "abddc34e",
   "metadata": {},
   "outputs": [],
   "source": [
    "# import required libraries\n",
    "import os"
   ]
  },
  {
   "cell_type": "code",
   "execution_count": null,
   "id": "9b69d1d4",
   "metadata": {},
   "outputs": [],
   "source": []
  },
  {
   "cell_type": "code",
   "execution_count": null,
   "id": "1f26fe81",
   "metadata": {},
   "outputs": [],
   "source": [
    "# 1. Load image\n",
    "cwd = os.getcwd()\n",
    "image_path = cwd + \"/images/IMG_0103.JPEG\""
   ]
  },
  {
   "cell_type": "code",
   "execution_count": null,
   "id": "7af2cdee",
   "metadata": {},
   "outputs": [],
   "source": []
  },
  {
   "cell_type": "code",
   "execution_count": null,
   "id": "2003beda",
   "metadata": {},
   "outputs": [],
   "source": []
  },
  {
   "cell_type": "code",
   "execution_count": null,
   "id": "d92f6746",
   "metadata": {},
   "outputs": [],
   "source": []
  },
  {
   "cell_type": "code",
   "execution_count": null,
   "id": "ec09d9b5",
   "metadata": {},
   "outputs": [],
   "source": [
    "# 2. Preprocess image and apply edge detection\n"
   ]
  },
  {
   "cell_type": "code",
   "execution_count": null,
   "id": "55482774",
   "metadata": {},
   "outputs": [],
   "source": []
  },
  {
   "cell_type": "code",
   "execution_count": null,
   "id": "fd8f1fd4",
   "metadata": {},
   "outputs": [],
   "source": []
  },
  {
   "cell_type": "code",
   "execution_count": null,
   "id": "eb468854",
   "metadata": {},
   "outputs": [],
   "source": []
  },
  {
   "cell_type": "code",
   "execution_count": null,
   "id": "f75edab1",
   "metadata": {},
   "outputs": [],
   "source": [
    "# 3. Find contours in the input image\n"
   ]
  },
  {
   "cell_type": "code",
   "execution_count": null,
   "id": "8d7e196b",
   "metadata": {},
   "outputs": [],
   "source": []
  },
  {
   "cell_type": "code",
   "execution_count": null,
   "id": "e1ab80fe",
   "metadata": {},
   "outputs": [],
   "source": []
  },
  {
   "cell_type": "code",
   "execution_count": null,
   "id": "4831da33",
   "metadata": {},
   "outputs": [],
   "source": []
  },
  {
   "cell_type": "code",
   "execution_count": null,
   "id": "a0bc458f",
   "metadata": {},
   "outputs": [],
   "source": [
    "# 4. Plot the contours and lines between them\n"
   ]
  },
  {
   "cell_type": "code",
   "execution_count": null,
   "id": "c2a0cf1e",
   "metadata": {},
   "outputs": [],
   "source": []
  },
  {
   "cell_type": "code",
   "execution_count": null,
   "id": "22913c7f",
   "metadata": {},
   "outputs": [],
   "source": []
  },
  {
   "cell_type": "code",
   "execution_count": null,
   "id": "510bec4c",
   "metadata": {},
   "outputs": [],
   "source": [
    "# 5. Warp the image andextract the region\n"
   ]
  },
  {
   "cell_type": "code",
   "execution_count": null,
   "id": "35f016d5",
   "metadata": {},
   "outputs": [],
   "source": []
  },
  {
   "cell_type": "code",
   "execution_count": null,
   "id": "c3f49dbb",
   "metadata": {},
   "outputs": [],
   "source": []
  },
  {
   "cell_type": "code",
   "execution_count": null,
   "id": "24e6b48b",
   "metadata": {},
   "outputs": [],
   "source": []
  },
  {
   "cell_type": "code",
   "execution_count": null,
   "id": "02c6129e",
   "metadata": {},
   "outputs": [],
   "source": [
    "# 6. Display the original image vs resultant image"
   ]
  },
  {
   "cell_type": "code",
   "execution_count": null,
   "id": "04d2c4c8",
   "metadata": {},
   "outputs": [],
   "source": []
  }
 ],
 "metadata": {
  "kernelspec": {
   "display_name": "Python 3 (ipykernel)",
   "language": "python",
   "name": "python3"
  },
  "language_info": {
   "codemirror_mode": {
    "name": "ipython",
    "version": 3
   },
   "file_extension": ".py",
   "mimetype": "text/x-python",
   "name": "python",
   "nbconvert_exporter": "python",
   "pygments_lexer": "ipython3",
   "version": "3.10.12"
  }
 },
 "nbformat": 4,
 "nbformat_minor": 5
}
