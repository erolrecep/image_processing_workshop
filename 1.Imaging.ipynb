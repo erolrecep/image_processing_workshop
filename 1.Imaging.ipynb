{
 "cells": [
  {
   "cell_type": "code",
   "execution_count": null,
   "id": "c43cbe56",
   "metadata": {},
   "outputs": [],
   "source": [
    "# Tasks\n",
    "# - Load an image with a URL\n",
    "# - Use your webcam for an image\n",
    "# - [Script] Use your webcam for a video\n",
    "# - [Alternative] Use your phone camera for an image then transfer here\n",
    "# - Resize image\n",
    "# - \\_ Keep the ratio\n",
    "# - \\_ Custom size"
   ]
  },
  {
   "cell_type": "code",
   "execution_count": null,
   "id": "2b19dab2",
   "metadata": {},
   "outputs": [],
   "source": [
    "# import required libraries\n",
    "import time\n",
    "from skimage import io\n",
    "import cv2\n",
    "import matplotlib.pyplot as plt"
   ]
  },
  {
   "cell_type": "code",
   "execution_count": null,
   "id": "4f20beb5",
   "metadata": {},
   "outputs": [],
   "source": []
  },
  {
   "cell_type": "code",
   "execution_count": null,
   "id": "2bbd0cfd",
   "metadata": {},
   "outputs": [],
   "source": [
    "# 1. Load an image with a URL to the RAM\n",
    "image_url = \"https://media.kommunity.com/live/kadinyazilimci/events/diva-dive-into-ai-20638ad7/speakers/recep-erol_live_64d21f26d226d.jpeg?p=avatar-60\"\n",
    "image = io.imread(image_url)"
   ]
  },
  {
   "cell_type": "code",
   "execution_count": null,
   "id": "e77e70c1",
   "metadata": {},
   "outputs": [],
   "source": []
  },
  {
   "cell_type": "code",
   "execution_count": null,
   "id": "b610f0b4",
   "metadata": {},
   "outputs": [],
   "source": [
    "# display the loaded image\n",
    "plt.imshow(image) # This may not work because matplotlib expects an image in RGB format.\n",
    "# plt.imshow(image[...,::-1])\n",
    "plt.show()"
   ]
  },
  {
   "cell_type": "code",
   "execution_count": null,
   "id": "5db163d4",
   "metadata": {},
   "outputs": [],
   "source": []
  },
  {
   "cell_type": "code",
   "execution_count": null,
   "id": "3d58b855",
   "metadata": {},
   "outputs": [],
   "source": [
    "import requests\n",
    "\n",
    "class Tweet(object):\n",
    "    def __init__(self, s, embed_str=False):\n",
    "        if not embed_str:\n",
    "            # Use Twitter's oEmbed API\n",
    "            # https://dev.twitter.com/web/embedded-tweets\n",
    "            api = 'https://publish.twitter.com/oembed?url={}'.format(s)\n",
    "            response = requests.get(api)\n",
    "            self.text = response.json()[\"html\"]\n",
    "        else:\n",
    "            self.text = s\n",
    "\n",
    "    def _repr_html_(self):\n",
    "        return self.text\n",
    "\n",
    "Tweet(\"https://twitter.com/erolrecep/status/1519138811309174785\")"
   ]
  },
  {
   "cell_type": "code",
   "execution_count": null,
   "id": "ba993284",
   "metadata": {},
   "outputs": [],
   "source": [
    "%%html\n",
    "<iframe src=\"https://docs.opencv.org/4.7.0/d4/da8/group__imgcodecs.html#ga288b8b3da0892bd651fce07b3bbd3a56\" width=\"640\" height=\"480\"></iframe>"
   ]
  },
  {
   "cell_type": "code",
   "execution_count": null,
   "id": "92d29309",
   "metadata": {},
   "outputs": [],
   "source": [
    "# Take a picture with your webcam using OpenCV\n",
    "\n",
    "cap = cv2.VideoCapture(0) # use 0 if you only have front facing camera\n",
    "\n",
    "time.sleep(2) # This is necessary and try other way to see the result.\n",
    "\n",
    "ret, frame = cap.read() #read one frame\n",
    "if ret:\n",
    "    print(frame.shape)\n",
    "else:\n",
    "    print(\"Loop over for actual image!\")\n",
    "\n",
    "plt.imshow(frame[...,::-1])\n",
    "plt.show()\n",
    "\n",
    "cap.release() # release the VideoCapture object."
   ]
  },
  {
   "cell_type": "code",
   "execution_count": null,
   "id": "b46076f1",
   "metadata": {},
   "outputs": [],
   "source": []
  },
  {
   "cell_type": "code",
   "execution_count": null,
   "id": "7a147f21",
   "metadata": {},
   "outputs": [],
   "source": [
    "# We can change the size of the image"
   ]
  },
  {
   "cell_type": "code",
   "execution_count": null,
   "id": "a009508b",
   "metadata": {},
   "outputs": [],
   "source": [
    "height, width = frame.shape[:2]"
   ]
  },
  {
   "cell_type": "code",
   "execution_count": null,
   "id": "a889e028",
   "metadata": {},
   "outputs": [],
   "source": [
    "frame_half = cv2.resize(frame, (width//2, height//2))"
   ]
  },
  {
   "cell_type": "code",
   "execution_count": null,
   "id": "13e9b1b4",
   "metadata": {},
   "outputs": [],
   "source": [
    "plt.imshow(frame_half[...,::-1])\n",
    "plt.show()"
   ]
  },
  {
   "cell_type": "code",
   "execution_count": null,
   "id": "ac490988",
   "metadata": {},
   "outputs": [],
   "source": [
    "frame_half = cv2.resize(frame, (height//2, width//2))"
   ]
  },
  {
   "cell_type": "code",
   "execution_count": null,
   "id": "8de68c14",
   "metadata": {},
   "outputs": [],
   "source": [
    "plt.imshow(frame_half[...,::-1])\n",
    "plt.show()"
   ]
  },
  {
   "cell_type": "code",
   "execution_count": null,
   "id": "9a12bfb3",
   "metadata": {},
   "outputs": [],
   "source": [
    "frame_half.shape"
   ]
  },
  {
   "cell_type": "code",
   "execution_count": null,
   "id": "ac40a86c",
   "metadata": {},
   "outputs": [],
   "source": [
    "# Alternative way\n",
    "import imutils"
   ]
  },
  {
   "cell_type": "code",
   "execution_count": null,
   "id": "fdb0d9d8",
   "metadata": {},
   "outputs": [],
   "source": [
    "frame_500 = imutils.resize(frame, height=500)"
   ]
  },
  {
   "cell_type": "code",
   "execution_count": null,
   "id": "5d4a402d",
   "metadata": {},
   "outputs": [],
   "source": [
    "plt.imshow(frame_500[...,::-1])\n",
    "plt.show()"
   ]
  },
  {
   "cell_type": "code",
   "execution_count": null,
   "id": "494633d5",
   "metadata": {},
   "outputs": [],
   "source": [
    "frame_500.shape"
   ]
  },
  {
   "cell_type": "code",
   "execution_count": null,
   "id": "35c08c54",
   "metadata": {},
   "outputs": [],
   "source": []
  },
  {
   "cell_type": "code",
   "execution_count": null,
   "id": "8dad8528",
   "metadata": {},
   "outputs": [],
   "source": []
  }
 ],
 "metadata": {
  "kernelspec": {
   "display_name": "Python 3 (ipykernel)",
   "language": "python",
   "name": "python3"
  },
  "language_info": {
   "codemirror_mode": {
    "name": "ipython",
    "version": 3
   },
   "file_extension": ".py",
   "mimetype": "text/x-python",
   "name": "python",
   "nbconvert_exporter": "python",
   "pygments_lexer": "ipython3",
   "version": "3.8.17"
  }
 },
 "nbformat": 4,
 "nbformat_minor": 5
}
